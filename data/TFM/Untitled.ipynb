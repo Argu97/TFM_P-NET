{
 "cells": [
  {
   "cell_type": "code",
   "execution_count": 1,
   "id": "d343f0e0",
   "metadata": {},
   "outputs": [],
   "source": [
    "import random"
   ]
  },
  {
   "cell_type": "code",
   "execution_count": 28,
   "id": "4ae59065",
   "metadata": {},
   "outputs": [],
   "source": [
    "lista = list(range(1,161))"
   ]
  },
  {
   "cell_type": "code",
   "execution_count": 25,
   "id": "9beb1711",
   "metadata": {},
   "outputs": [],
   "source": [
    "import numpy as np\n",
    "train = random.sample(lista,66)\n",
    "main_list = list(np.setdiff1d(lista,train))"
   ]
  },
  {
   "cell_type": "code",
   "execution_count": 26,
   "id": "12ddaab2",
   "metadata": {},
   "outputs": [
    {
     "data": {
      "text/plain": [
       "[8,\n",
       " 9,\n",
       " 10,\n",
       " 11,\n",
       " 12,\n",
       " 22,\n",
       " 24,\n",
       " 29,\n",
       " 35,\n",
       " 39,\n",
       " 40,\n",
       " 41,\n",
       " 42,\n",
       " 43,\n",
       " 48,\n",
       " 55,\n",
       " 57,\n",
       " 63,\n",
       " 64,\n",
       " 65,\n",
       " 67,\n",
       " 68,\n",
       " 71,\n",
       " 77,\n",
       " 80,\n",
       " 81,\n",
       " 83,\n",
       " 84,\n",
       " 87,\n",
       " 88,\n",
       " 89,\n",
       " 90,\n",
       " 93]"
      ]
     },
     "execution_count": 26,
     "metadata": {},
     "output_type": "execute_result"
    }
   ],
   "source": [
    "li"
   ]
  }
 ],
 "metadata": {
  "kernelspec": {
   "display_name": "Python 3 (ipykernel)",
   "language": "python",
   "name": "python3"
  },
  "language_info": {
   "codemirror_mode": {
    "name": "ipython",
    "version": 3
   },
   "file_extension": ".py",
   "mimetype": "text/x-python",
   "name": "python",
   "nbconvert_exporter": "python",
   "pygments_lexer": "ipython3",
   "version": "3.9.7"
  }
 },
 "nbformat": 4,
 "nbformat_minor": 5
}
